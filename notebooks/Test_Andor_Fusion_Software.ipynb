{
 "cells": [
  {
   "cell_type": "markdown",
   "id": "6fe9cac1-a21e-4db6-900c-fb14edb48a13",
   "metadata": {},
   "source": [
    "# Control Andor Fusion software"
   ]
  },
  {
   "cell_type": "code",
   "execution_count": 1,
   "id": "622614cd-487d-47f2-9737-d7e635fc24ec",
   "metadata": {},
   "outputs": [],
   "source": [
    "%load_ext autoreload\n",
    "%autoreload 2"
   ]
  },
  {
   "cell_type": "code",
   "execution_count": 2,
   "id": "42ac5a99-99a3-4f43-8ff6-a47c4913e9e6",
   "metadata": {},
   "outputs": [],
   "source": [
    "from microscopesoftwareautomation import AndorFusion as microscope"
   ]
  },
  {
   "cell_type": "code",
   "execution_count": 3,
   "id": "aedd5f95-01af-4397-8a79-3f7997d7885c",
   "metadata": {},
   "outputs": [
    {
     "name": "stdout",
     "output_type": "stream",
     "text": [
      "2023-12-22 14:11:52,859 [INFO] Andor Fusion control initialized.\n"
     ]
    }
   ],
   "source": [
    "mic = microscope()"
   ]
  },
  {
   "cell_type": "code",
   "execution_count": 5,
   "id": "685a0d7d-c236-44bf-abf3-352565930d48",
   "metadata": {},
   "outputs": [
    {
     "data": {
      "text/plain": [
       "'Argolight'"
      ]
     },
     "execution_count": 5,
     "metadata": {},
     "output_type": "execute_result"
    }
   ],
   "source": [
    "mic.get_current_protocol()"
   ]
  },
  {
   "cell_type": "code",
   "execution_count": 6,
   "id": "bfd6ac71-7cd6-4a07-a9ec-f059e80c0d2f",
   "metadata": {},
   "outputs": [],
   "source": [
    "mic.run()"
   ]
  },
  {
   "cell_type": "code",
   "execution_count": 8,
   "id": "a8ba6fc9-cdd5-45c9-ad6c-daaeb183c9ed",
   "metadata": {},
   "outputs": [
    {
     "data": {
      "text/plain": [
       "<State.Running: 3>"
      ]
     },
     "execution_count": 8,
     "metadata": {},
     "output_type": "execute_result"
    }
   ],
   "source": [
    "mic.get_state()"
   ]
  },
  {
   "cell_type": "code",
   "execution_count": 9,
   "id": "b65c533b-2e85-4569-8cc1-eff11ecc6b51",
   "metadata": {},
   "outputs": [],
   "source": [
    "mic.pause()"
   ]
  },
  {
   "cell_type": "code",
   "execution_count": 10,
   "id": "5e0b60d1-ac36-49d7-bf20-ca5937be04cb",
   "metadata": {},
   "outputs": [
    {
     "data": {
      "text/plain": [
       "False"
      ]
     },
     "execution_count": 10,
     "metadata": {},
     "output_type": "execute_result"
    }
   ],
   "source": [
    "mic.is_running()"
   ]
  },
  {
   "cell_type": "code",
   "execution_count": 11,
   "id": "12a080fa-fcd9-45ab-80ec-3b92d0e98434",
   "metadata": {},
   "outputs": [
    {
     "name": "stdout",
     "output_type": "stream",
     "text": [
      "\n",
      "        Started : 2023-12-22 14:12:11.464871+01:00 \n",
      "        Elapsed : 0:00:02.776000\n",
      "        Remaining : 0:00:32.291000\n",
      "        Estimated time of completion : 2023-12-22 14:12:48.466662+01:00\n",
      "        Progress : 7.55%\n",
      "        \n"
     ]
    }
   ],
   "source": [
    "print(mic.get_protocol_progress())"
   ]
  },
  {
   "cell_type": "code",
   "execution_count": 12,
   "id": "07758f89-2eb7-44fd-b401-214d2d82040d",
   "metadata": {},
   "outputs": [],
   "source": [
    "mic.run()"
   ]
  },
  {
   "cell_type": "code",
   "execution_count": 13,
   "id": "067a19db-e9be-4583-8054-6e1e5004b91a",
   "metadata": {},
   "outputs": [
    {
     "data": {
      "text/plain": [
       "True"
      ]
     },
     "execution_count": 13,
     "metadata": {},
     "output_type": "execute_result"
    }
   ],
   "source": [
    "mic.is_running()"
   ]
  },
  {
   "cell_type": "code",
   "execution_count": 14,
   "id": "b9b43334-6f61-4689-b539-9c4909aadd8c",
   "metadata": {},
   "outputs": [],
   "source": [
    "mic.wait_until_idle(check_interval_secs=1)"
   ]
  },
  {
   "cell_type": "code",
   "execution_count": 15,
   "id": "6e090651-450d-4065-b116-8e69fa7956f5",
   "metadata": {},
   "outputs": [
    {
     "name": "stdout",
     "output_type": "stream",
     "text": [
      "\n",
      "        Started : 2023-12-22 14:12:11.464871+01:00 \n",
      "        Elapsed : 0:00:34.998000\n",
      "        Remaining : 0:00:00\n",
      "        Estimated time of completion : 2023-12-22 14:12:55.710836+01:00\n",
      "        Progress : 100.00%\n",
      "        \n",
      "Idle\n"
     ]
    }
   ],
   "source": [
    "print(mic.get_protocol_progress())\n",
    "print(mic.get_state())"
   ]
  },
  {
   "cell_type": "code",
   "execution_count": 16,
   "id": "5f34a3eb-8ef6-408d-927e-80d673985cd0",
   "metadata": {},
   "outputs": [
    {
     "data": {
      "text/plain": [
       "'Argolight'"
      ]
     },
     "execution_count": 16,
     "metadata": {},
     "output_type": "execute_result"
    }
   ],
   "source": [
    "mic.get_current_protocol()"
   ]
  },
  {
   "cell_type": "code",
   "execution_count": 17,
   "id": "e40bcc93-4839-43d6-9df5-7f7b59f1b554",
   "metadata": {},
   "outputs": [],
   "source": [
    "mic.set_current_protocol(\"Current\")"
   ]
  },
  {
   "cell_type": "code",
   "execution_count": 18,
   "id": "de424f24-5882-4c02-b707-264ecc5308f9",
   "metadata": {},
   "outputs": [
    {
     "data": {
      "text/plain": [
       "'Current'"
      ]
     },
     "execution_count": 18,
     "metadata": {},
     "output_type": "execute_result"
    }
   ],
   "source": [
    "mic.get_current_protocol()"
   ]
  }
 ],
 "metadata": {
  "kernelspec": {
   "display_name": "Python 3 (ipykernel)",
   "language": "python",
   "name": "python3"
  },
  "language_info": {
   "codemirror_mode": {
    "name": "ipython",
    "version": 3
   },
   "file_extension": ".py",
   "mimetype": "text/x-python",
   "name": "python",
   "nbconvert_exporter": "python",
   "pygments_lexer": "ipython3",
   "version": "3.11.7"
  }
 },
 "nbformat": 4,
 "nbformat_minor": 5
}
